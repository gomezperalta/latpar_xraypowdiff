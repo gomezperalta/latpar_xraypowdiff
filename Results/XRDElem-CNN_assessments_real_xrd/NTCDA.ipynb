{
 "cells": [
  {
   "cell_type": "code",
   "execution_count": 1,
   "id": "554731a8",
   "metadata": {},
   "outputs": [],
   "source": [
    "import tensorflow as tf\n",
    "import numpy as np\n",
    "import pandas as pd\n",
    "import matplotlib.pyplot as plt"
   ]
  },
  {
   "cell_type": "code",
   "execution_count": 2,
   "id": "a1fe7f8d",
   "metadata": {},
   "outputs": [],
   "source": [
    "modelo = tf.keras.models.load_model('./2R4P2R_latpar_2R2P2R_64.h5')\n",
    "modelo.trainable = False"
   ]
  },
  {
   "cell_type": "code",
   "execution_count": 3,
   "id": "02793288",
   "metadata": {},
   "outputs": [],
   "source": [
    "def get_xrd(name = str, skiprows=0):\n",
    "    df = pd.read_csv(name, skiprows=skiprows)\n",
    "    \n",
    "    xrd = df.values\n",
    "    maxval = np.max(xrd[:,1])\n",
    "    xrd[:,1] = xrd[:,1]/maxval\n",
    "    \n",
    "    return xrd"
   ]
  },
  {
   "cell_type": "code",
   "execution_count": 6,
   "id": "1acdbea2",
   "metadata": {},
   "outputs": [],
   "source": [
    "xrd = get_xrd(name='./NTCDA_interpolated.csv', skiprows=0)"
   ]
  },
  {
   "cell_type": "code",
   "execution_count": 7,
   "id": "2355f8ab",
   "metadata": {},
   "outputs": [
    {
     "data": {
      "image/png": "[encoded data removed]",
      "text/plain": [
       "<Figure size 640x480 with 1 Axes>"
      ]
     },
     "metadata": {},
     "output_type": "display_data"
    }
   ],
   "source": [
    "plt.figure()\n",
    "plt.plot(xrd[:,0], xrd[:,1])\n",
    "plt.show()"
   ]
  },
  {
   "cell_type": "code",
   "execution_count": 8,
   "id": "97e3b83e",
   "metadata": {},
   "outputs": [],
   "source": [
    "formula = 'C14H4O6'\n",
    "atdict = {1:4, 6:14, 8:6}"
   ]
  },
  {
   "cell_type": "code",
   "execution_count": 9,
   "id": "05cf2d59",
   "metadata": {},
   "outputs": [],
   "source": [
    "zmax = 5"
   ]
  },
  {
   "cell_type": "code",
   "execution_count": 10,
   "id": "81604417",
   "metadata": {},
   "outputs": [],
   "source": [
    "def create_binrep(atdict=dict, zmax=1):\n",
    "    binrep = np.zeros((zmax, 96, 9))\n",
    "    for z in range(1, zmax+1):\n",
    "        for key in atdict.keys():\n",
    "            atoms = int(z*atdict[key])\n",
    "            ibin = np.asarray([int(i) for i in bin(atoms)[2:]])\n",
    "            binrep[z-1,key-1,-len(ibin):] = ibin\n",
    "    return binrep"
   ]
  },
  {
   "cell_type": "code",
   "execution_count": 11,
   "id": "5fdd2bf0",
   "metadata": {},
   "outputs": [],
   "source": [
    "x2 = create_binrep(atdict=atdict, zmax=zmax)"
   ]
  },
  {
   "cell_type": "code",
   "execution_count": 12,
   "id": "d79f693e",
   "metadata": {},
   "outputs": [],
   "source": [
    "x1 = xrd[-2780:,1]\n",
    "x1 = x1[np.newaxis,:,np.newaxis]\n",
    "x1 = np.repeat(x1, x2.shape[0], axis=0)"
   ]
  },
  {
   "cell_type": "code",
   "execution_count": 13,
   "id": "ea619ae5",
   "metadata": {},
   "outputs": [
    {
     "name": "stdout",
     "output_type": "stream",
     "text": [
      "1/1 [==============================] - 4s 4s/step\n"
     ]
    }
   ],
   "source": [
    "d = modelo.predict([x1, x2], verbose=1)"
   ]
  },
  {
   "cell_type": "code",
   "execution_count": 14,
   "id": "d1c58b61",
   "metadata": {},
   "outputs": [
    {
     "data": {
      "text/plain": [
       "array([[ 8.406004,  7.631237,  6.488246],\n",
       "       [10.266514,  8.564642,  7.776013],\n",
       "       [13.753757,  8.888794,  7.994359],\n",
       "       [15.454654,  9.381387,  8.356459],\n",
       "       [16.134651, 11.056423,  8.637602]], dtype=float32)"
      ]
     },
     "execution_count": 14,
     "metadata": {},
     "output_type": "execute_result"
    }
   ],
   "source": [
    "d[:,:3]"
   ]
  },
  {
   "cell_type": "code",
   "execution_count": 15,
   "id": "2c1aa2ed",
   "metadata": {},
   "outputs": [],
   "source": [
    "drmse = np.asarray([1.5682, 1.0771, 0.7751])\n",
    "vrmse = 295\n"
   ]
  },
  {
   "cell_type": "code",
   "execution_count": 16,
   "id": "bce2a1cb",
   "metadata": {},
   "outputs": [],
   "source": [
    "d = d[:,:3]\n",
    "dmin = d - 2*drmse\n",
    "dmax = d + 2*drmse\n",
    "\n",
    "d = np.round(d, 4)\n",
    "dmin = np.round(dmin, 4)\n",
    "dmax = np.round(dmax, 4)\n",
    "\n",
    "v = d[:,0]*d[:,1]*d[:,2]\n",
    "vmin = v - 2*vrmse\n",
    "vmax = v + 2*vrmse\n",
    "\n",
    "v = v[:, np.newaxis]\n",
    "vmin = vmin[:, np.newaxis]\n",
    "vmax = vmax[:, np.newaxis]\n",
    "\n",
    "v = np.round(v, 0)\n",
    "vmin = np.round(vmin, 0)\n",
    "vmax = np.round(vmax, 0)\n",
    "\n",
    "z = np.arange(1, d.shape[0]+1, 1)\n",
    "z = z[:,np.newaxis]"
   ]
  },
  {
   "cell_type": "code",
   "execution_count": 17,
   "id": "8b82970d",
   "metadata": {},
   "outputs": [],
   "source": [
    "da = pd.DataFrame(np.concatenate((z, d, dmin, dmax, v, vmin, vmax), axis=1))\n",
    "da = da.rename(columns = {0:'z', \n",
    "                1:'a', 2:'b', 3:'c',\n",
    "                4:'amin', 5:'bmin', 6:'cmin',\n",
    "                7:'amax', 8:'bmax', 9:'cmax',\n",
    "                10:'v', 11:'vmin', 12:'vmax'\n",
    "               })"
   ]
  },
  {
   "cell_type": "code",
   "execution_count": 18,
   "id": "1a30833d",
   "metadata": {},
   "outputs": [],
   "source": [
    "da.round(4).to_csv('ntcda_sg.csv', index=None)"
   ]
  }
 ],
 "metadata": {
  "kernelspec": {
   "display_name": "Python 3 (ipykernel)",
   "language": "python",
   "name": "python3"
  },
  "language_info": {
   "codemirror_mode": {
    "name": "ipython",
    "version": 3
   },
   "file_extension": ".py",
   "mimetype": "text/x-python",
   "name": "python",
   "nbconvert_exporter": "python",
   "pygments_lexer": "ipython3",
   "version": "3.10.9"
  }
 },
 "nbformat": 4,
 "nbformat_minor": 5
}
