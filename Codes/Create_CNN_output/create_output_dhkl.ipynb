{
 "cells": [
  {
   "cell_type": "code",
   "execution_count": null,
   "metadata": {
    "collapsed": true
   },
   "outputs": [],
   "source": [
    "import numpy as np\n",
    "import matplotlib.pyplot as plt\n",
    "import pandas as pd"
   ]
  },
  {
   "cell_type": "markdown",
   "metadata": {},
   "source": [
    "The relationship between an interplanar distance and its Miller indices is expressed as follows (Eq. 1):"
   ]
  },
  {
   "cell_type": "markdown",
   "metadata": {},
   "source": [
    "$$d_{hkl} = \\frac{1}{\\sqrt{Q_{11} h^2 + Q_{22} k^2 + Q_{33} l^2 + Q_{12} hk + Q_{13} hl + Q_{23} kl}}$$ "
   ]
  },
  {
   "cell_type": "markdown",
   "metadata": {},
   "source": [
    "The last equation is valid for all crystal systems. The relationship of each $Q_{ij}$ coefficient and the lattice parameters $a$, $b$, $c$, $\\alpha$, $\\beta$, and $\\gamma$ is defined in the next cell and can be found in International Tables for Crystallography Volume H, Chapter 3.4, pp. 270-281. "
   ]
  },
  {
   "cell_type": "code",
   "execution_count": null,
   "metadata": {
    "collapsed": true
   },
   "outputs": [],
   "source": [
    "def dhkl(abc = list(), angles=(), h=1, k=1, l=1):\n",
    "    \"\"\"\n",
    "        A function to compute the equation given above.\n",
    "        Paramaters:\n",
    "            abc: list, with the unit cell vectors\n",
    "            angles: list, with the angles of the unit cells.\n",
    "            h, k, l are integers and are the Miller index\n",
    "        Return: a float, which is the interplanar distance associated to the family of planes hkl\n",
    "    \"\"\"\n",
    "    a, b, c = abc[0], abc[1], abc[2]\n",
    "    alpha, beta, gamma = angles[0], angles[1], angles[2]\n",
    "    \n",
    "    A = (a**2)*(b**2)*(c**2)*(1 - np.cos(alpha)**2 - np.cos(beta)**2 - np.cos(gamma)**2 + 2*np.cos(alpha)*np.cos(beta)*np.cos(gamma))\n",
    "    \n",
    "    q11 = (b**2)*(c**2)*np.sin(alpha)**2\n",
    "    q22 = (a**2)*(c**2)*np.sin(beta)**2\n",
    "    q33 = (a**2)*(b**2)*np.sin(gamma)**2\n",
    "    \n",
    "    q12 = 2*a*b*(c**2)*(np.cos(alpha)*np.cos(beta)-np.cos(gamma))\n",
    "    q13 = 2*a*c*(b**2)*(np.cos(alpha)*np.cos(gamma)-np.cos(beta))\n",
    "    q23 = 2*b*c*(a**2)*(np.cos(beta)*np.cos(gamma)-np.cos(alpha))\n",
    "    \n",
    "    Q11 = q11/A\n",
    "    Q22 = q22/A\n",
    "    Q33 = q33/A\n",
    "    \n",
    "    Q12 = q12/A\n",
    "    Q13 = q13/A\n",
    "    Q23 = q23/A\n",
    "    \n",
    "    return (Q11*h**2 + Q22*k**2 + Q33*l**2 + Q12*h*k + Q13*h*l + Q23*k*l)**-0.5\n",
    "    "
   ]
  },
  {
   "cell_type": "markdown",
   "metadata": {},
   "source": [
    "The main idea in our approach is that general expression given above can be rewritten as follows (Eq. 2):"
   ]
  },
  {
   "cell_type": "markdown",
   "metadata": {},
   "source": [
    "$$d_{hkl}^{-2} = h^{2}d_{100}^{-2} + k^{2}d_{010}^{-2} + l^{2}d_{001}^{-2} + hk [d_{110}^{-2} -(d_{100}^{-2} + d_{010}^{-2})] + hl [d_{101}^{-2} -(d_{100}^{-2} + d_{001}^{-2})] + kl [d_{011}^{-2} -(d_{010}^{-2} + d_{001}^{-2})] $$"
   ]
  },
  {
   "cell_type": "markdown",
   "metadata": {},
   "source": [
    "where $d_{100}$, $d_{010}$, $d_{001}$, $d_{110}$, $d_{101}$, and $d_{011}$ are the six interplanar distances that the Convolutional Neural Networks learn to assess. From these hkl-distances, the lattice parameter can be recalculated. There are two motivations to follow the current approach:\n",
    "<ol>\n",
    " <li> Unit-cell vectors and angles possess diferent dimensionality. </li>\n",
    " <li> Beyond the existing symmetry constraints, the interplanar distances are actually observed in a powder diffraction pattern and not lattice parameters. In fact, there is a coincidence between unit-cell vectors and interplanar distances when the coordinate system is orthogonal. </li>\n",
    "</ol>"
   ]
  },
  {
   "cell_type": "markdown",
   "metadata": {},
   "source": [
    "Now, the interplanar distances will be computed"
   ]
  },
  {
   "cell_type": "markdown",
   "metadata": {},
   "source": [
    "### dhkl calculation"
   ]
  },
  {
   "cell_type": "code",
   "execution_count": null,
   "metadata": {
    "collapsed": true
   },
   "outputs": [],
   "source": [
    "#Next line loads the csv that has information about the lattice parameters from each compound\n",
    "dlat = pd.read_csv('../DataSets/1In-omdb12k-hr/1In-omdb12k-hr_dftest.csv')\n",
    "dlat = dlat.rename(columns={'name':'cif'})\n",
    "dlat = dlat[['cif','a','b','c','alpha','beta','gamma']]"
   ]
  },
  {
   "cell_type": "code",
   "execution_count": null,
   "metadata": {},
   "outputs": [],
   "source": [
    "dlat"
   ]
  },
  {
   "cell_type": "markdown",
   "metadata": {},
   "source": [
    "The next for-loop actually calculates the dhkl values as follows: first, the distances $d_{100}$, $d_{010}$, and $d_{001}$ are calculated from the lattice parameters. Then, the distances are ordered in a decreasing fashion, which also rearranges the order of the unit-cell vectors and their corresponding angles. Finally, all the distances are calculated, including those previously obtained."
   ]
  },
  {
   "cell_type": "code",
   "execution_count": null,
   "metadata": {},
   "outputs": [],
   "source": [
    "d = np.zeros((dlat.shape[0],6))\n",
    "for row in range(dlat.shape[0]):\n",
    "    \n",
    "    dcast = np.zeros((1,3))\n",
    "    abc = dlat.iloc[row,-6:-3].values\n",
    "    abc = abc.astype(np.float32)\n",
    "    angles = dlat.iloc[row,-3:].values\n",
    "    angles = angles.astype(np.float32)\n",
    "    \n",
    "    angles = np.deg2rad(angles)\n",
    "    \n",
    "    dcast[0,0] = dhkl(abc = abc, angles = angles, h=1, k=0, l=0)\n",
    "    dcast[0,1] = dhkl(abc = abc, angles = angles, h=0, k=1, l=0)\n",
    "    dcast[0,2] = dhkl(abc = abc, angles = angles, h=0, k=0, l=1)\n",
    "    \n",
    "    #The calculated distances are ordered in a decreasing fashion\n",
    "    idxsort = np.argsort(dcast[0])\n",
    "    idxsort = [i for i in reversed(idxsort)]\n",
    "    #The unit-cell vectors and their corresponding angles are rearranged\n",
    "    abc = abc[idxsort]\n",
    "    angles = angles[idxsort]\n",
    "    #The interplanar distances are calculated in the right sequence.\n",
    "    d[row,0] = dhkl(abc = abc, angles = angles, h=1, k=0, l=0)\n",
    "    d[row,1] = dhkl(abc = abc, angles = angles, h=0, k=1, l=0)\n",
    "    d[row,2] = dhkl(abc = abc, angles = angles, h=0, k=0, l=1)\n",
    "    \n",
    "    d[row,3] = dhkl(abc = abc, angles = angles, h=1, k=1, l=0)\n",
    "    d[row,4] = dhkl(abc = abc, angles = angles, h=1, k=0, l=1)\n",
    "    d[row,5] = dhkl(abc = abc, angles = angles, h=0, k=1, l=1)\n",
    "    "
   ]
  },
  {
   "cell_type": "markdown",
   "metadata": {},
   "source": [
    "The order interplanar distances are saved as yts2_sxv.npy\n"
   ]
  },
  {
   "cell_type": "code",
   "execution_count": null,
   "metadata": {
    "collapsed": true
   },
   "outputs": [],
   "source": [
    "np.save('./yts2_sxv', d)"
   ]
  }
 ],
 "metadata": {
  "kernelspec": {
   "display_name": "Python 3",
   "language": "python",
   "name": "python3"
  },
  "language_info": {
   "codemirror_mode": {
    "name": "ipython",
    "version": 3
   },
   "file_extension": ".py",
   "mimetype": "text/x-python",
   "name": "python",
   "nbconvert_exporter": "python",
   "pygments_lexer": "ipython3",
   "version": "3.6.1"
  }
 },
 "nbformat": 4,
 "nbformat_minor": 2
}
