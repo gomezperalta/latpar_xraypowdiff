{
 "cells": [
  {
   "cell_type": "code",
   "execution_count": 1,
   "metadata": {
    "collapsed": true
   },
   "outputs": [],
   "source": [
    "import pandas as pd\n",
    "import numpy as np\n",
    "import re"
   ]
  },
  {
   "cell_type": "markdown",
   "metadata": {},
   "source": [
    "Loading the csv-files"
   ]
  },
  {
   "cell_type": "code",
   "execution_count": 2,
   "metadata": {},
   "outputs": [],
   "source": [
    "df = pd.read_csv('orgcomp_formulas.csv')\n",
    "db = pd.read_csv('dfset_macro.csv')\n",
    "dat = pd.read_csv('./datosrahm.csv')\n",
    "\n",
    "symtoz = {k:v for k,v in zip(dat['Symbol'].values, dat['Z'].values)}\n",
    "symtoz['D'] = 1"
   ]
  },
  {
   "cell_type": "markdown",
   "metadata": {},
   "source": [
    "The df dataframe contains the formula of the compound within the unit cell. The db dataframe is the complete collection of compounds. The dat dataframe is a support file that relates element symbols with atomic numbers"
   ]
  },
  {
   "cell_type": "code",
   "execution_count": 3,
   "metadata": {
    "collapsed": true
   },
   "outputs": [],
   "source": [
    "diccio = {k:v for k,v in zip(df['cif'], df['formula'])}\n",
    "\n",
    "formulas = list()\n",
    "\n",
    "for row in range(db.shape[0]):\n",
    "    \n",
    "    cif = int(db['name'][row].split('_')[0])\n",
    "    formulas += [diccio.get(cif, None)]\n",
    "\n",
    "db['formula'] = formulas"
   ]
  },
  {
   "cell_type": "markdown",
   "metadata": {},
   "source": [
    "Now, the formula of each compound in db will be converted in a 96x1 matrix, which represents elements times number of atoms within the unit cell."
   ]
  },
  {
   "cell_type": "code",
   "execution_count": 4,
   "metadata": {
    "collapsed": true
   },
   "outputs": [],
   "source": [
    "atoms = np.zeros((db.shape[0], 96, 1))\n",
    "for row in range(db.shape[0]):\n",
    "    sample = db['formula'][row]\n",
    "    for item in sample.split():\n",
    "        splitem = re.split('(\\d+)', item)\n",
    "        el, ats, = ''.join(splitem[:1]), ''.join(splitem[1:])\n",
    "        atoms[row, symtoz.get(el,None)-1] = float(ats)"
   ]
  },
  {
   "cell_type": "markdown",
   "metadata": {},
   "source": [
    "Now, we check that there are not fractional atoms (next result must be equal to zero)"
   ]
  },
  {
   "cell_type": "code",
   "execution_count": 5,
   "metadata": {},
   "outputs": [
    {
     "data": {
      "text/html": [
       "<div>\n",
       "<style scoped>\n",
       "    .dataframe tbody tr th:only-of-type {\n",
       "        vertical-align: middle;\n",
       "    }\n",
       "\n",
       "    .dataframe tbody tr th {\n",
       "        vertical-align: top;\n",
       "    }\n",
       "\n",
       "    .dataframe thead th {\n",
       "        text-align: right;\n",
       "    }\n",
       "</style>\n",
       "<table border=\"1\" class=\"dataframe\">\n",
       "  <thead>\n",
       "    <tr style=\"text-align: right;\">\n",
       "      <th></th>\n",
       "      <th>name</th>\n",
       "      <th>sgnum</th>\n",
       "      <th>formula</th>\n",
       "    </tr>\n",
       "  </thead>\n",
       "  <tbody>\n",
       "    <tr>\n",
       "      <td>6452</td>\n",
       "      <td>2010797_macro</td>\n",
       "      <td>62</td>\n",
       "      <td>H24 C19.99992 I4 N3.99984 Cl8</td>\n",
       "    </tr>\n",
       "    <tr>\n",
       "      <td>7800</td>\n",
       "      <td>2017128_macro</td>\n",
       "      <td>146</td>\n",
       "      <td>Cu12 H89.99991 C45 N30 Cl18 O3</td>\n",
       "    </tr>\n",
       "    <tr>\n",
       "      <td>8951</td>\n",
       "      <td>2103906_macro</td>\n",
       "      <td>63</td>\n",
       "      <td>H128 C68 N16 O16.0064</td>\n",
       "    </tr>\n",
       "    <tr>\n",
       "      <td>14409</td>\n",
       "      <td>4101626_macro</td>\n",
       "      <td>198</td>\n",
       "      <td>Zn4 Cu4 H47.9988 C32 N20</td>\n",
       "    </tr>\n",
       "    <tr>\n",
       "      <td>15460</td>\n",
       "      <td>4323260_macro</td>\n",
       "      <td>62</td>\n",
       "      <td>Si16 Mo8.0008 P16 H288 C128</td>\n",
       "    </tr>\n",
       "    <tr>\n",
       "      <td>16054</td>\n",
       "      <td>4342250_macro</td>\n",
       "      <td>148</td>\n",
       "      <td>Si6 H89.9982 C96 N18</td>\n",
       "    </tr>\n",
       "    <tr>\n",
       "      <td>16882</td>\n",
       "      <td>7028981_macro</td>\n",
       "      <td>148</td>\n",
       "      <td>P13.999998 H228.000006 Ru6 C135.999998 N12 F42</td>\n",
       "    </tr>\n",
       "    <tr>\n",
       "      <td>17131</td>\n",
       "      <td>7112029_macro</td>\n",
       "      <td>173</td>\n",
       "      <td>Fe2 H95.9994 C66 S6 N10 O12</td>\n",
       "    </tr>\n",
       "    <tr>\n",
       "      <td>19522</td>\n",
       "      <td>2233677_macro</td>\n",
       "      <td>2</td>\n",
       "      <td>H16 C24.0018 S2 N4 O2 F4</td>\n",
       "    </tr>\n",
       "    <tr>\n",
       "      <td>22099</td>\n",
       "      <td>4023195_macro</td>\n",
       "      <td>4</td>\n",
       "      <td>H68 C36 S2 N10 O10.0008</td>\n",
       "    </tr>\n",
       "    <tr>\n",
       "      <td>23138</td>\n",
       "      <td>4028406_macro</td>\n",
       "      <td>14</td>\n",
       "      <td>Si8 H184.0144 C104.0064 N16 O28</td>\n",
       "    </tr>\n",
       "    <tr>\n",
       "      <td>28304</td>\n",
       "      <td>4082894_macro</td>\n",
       "      <td>62</td>\n",
       "      <td>Cu4 Sb3.9992 H120 C72 N8 F23.9952</td>\n",
       "    </tr>\n",
       "    <tr>\n",
       "      <td>29135</td>\n",
       "      <td>4100244_macro</td>\n",
       "      <td>4</td>\n",
       "      <td>H35.9958 C21.9982 S1.9994 N8 O6</td>\n",
       "    </tr>\n",
       "    <tr>\n",
       "      <td>30551</td>\n",
       "      <td>4109296_macro</td>\n",
       "      <td>2</td>\n",
       "      <td>K4 Sn16.9998 H168 Pt1.9998 C78 N14.0 O24</td>\n",
       "    </tr>\n",
       "    <tr>\n",
       "      <td>31806</td>\n",
       "      <td>4301800_macro</td>\n",
       "      <td>14</td>\n",
       "      <td>Fe4 P3.9992 H168 C160 N46 F23.9952</td>\n",
       "    </tr>\n",
       "    <tr>\n",
       "      <td>32263</td>\n",
       "      <td>4305122_macro</td>\n",
       "      <td>2</td>\n",
       "      <td>Cu4 P4 H60 C103.9996 N12 F55.9988</td>\n",
       "    </tr>\n",
       "    <tr>\n",
       "      <td>35170</td>\n",
       "      <td>4324812_macro</td>\n",
       "      <td>2</td>\n",
       "      <td>H85.9952 Pt2 C62 N14 Cl4 O14</td>\n",
       "    </tr>\n",
       "  </tbody>\n",
       "</table>\n",
       "</div>"
      ],
      "text/plain": [
       "                name  sgnum                                         formula\n",
       "6452   2010797_macro     62                   H24 C19.99992 I4 N3.99984 Cl8\n",
       "7800   2017128_macro    146                  Cu12 H89.99991 C45 N30 Cl18 O3\n",
       "8951   2103906_macro     63                           H128 C68 N16 O16.0064\n",
       "14409  4101626_macro    198                        Zn4 Cu4 H47.9988 C32 N20\n",
       "15460  4323260_macro     62                     Si16 Mo8.0008 P16 H288 C128\n",
       "16054  4342250_macro    148                            Si6 H89.9982 C96 N18\n",
       "16882  7028981_macro    148  P13.999998 H228.000006 Ru6 C135.999998 N12 F42\n",
       "17131  7112029_macro    173                     Fe2 H95.9994 C66 S6 N10 O12\n",
       "19522  2233677_macro      2                        H16 C24.0018 S2 N4 O2 F4\n",
       "22099  4023195_macro      4                         H68 C36 S2 N10 O10.0008\n",
       "23138  4028406_macro     14                 Si8 H184.0144 C104.0064 N16 O28\n",
       "28304  4082894_macro     62               Cu4 Sb3.9992 H120 C72 N8 F23.9952\n",
       "29135  4100244_macro      4                 H35.9958 C21.9982 S1.9994 N8 O6\n",
       "30551  4109296_macro      2        K4 Sn16.9998 H168 Pt1.9998 C78 N14.0 O24\n",
       "31806  4301800_macro     14              Fe4 P3.9992 H168 C160 N46 F23.9952\n",
       "32263  4305122_macro      2               Cu4 P4 H60 C103.9996 N12 F55.9988\n",
       "35170  4324812_macro      2                    H85.9952 Pt2 C62 N14 Cl4 O14"
      ]
     },
     "execution_count": 5,
     "metadata": {},
     "output_type": "execute_result"
    }
   ],
   "source": [
    "db.iloc[(atoms.sum(axis=(1,2))%1 != 0),:]"
   ]
  },
  {
   "cell_type": "markdown",
   "metadata": {},
   "source": [
    "The decimals are really near to integers. "
   ]
  },
  {
   "cell_type": "markdown",
   "metadata": {},
   "source": [
    "We check the highest number of atoms for an element in a compound. This is important since this will fix the length of the binary input vector"
   ]
  },
  {
   "cell_type": "code",
   "execution_count": 6,
   "metadata": {},
   "outputs": [
    {
     "data": {
      "text/plain": [
       "360.0"
      ]
     },
     "execution_count": 6,
     "metadata": {},
     "output_type": "execute_result"
    }
   ],
   "source": [
    "atoms.max()"
   ]
  },
  {
   "cell_type": "markdown",
   "metadata": {},
   "source": [
    "In the next cell we compare the matrix for each compound with the formula."
   ]
  },
  {
   "cell_type": "code",
   "execution_count": 7,
   "metadata": {},
   "outputs": [
    {
     "data": {
      "text/plain": [
       "(array([42.,  0.,  0.,  0.,  0., 38.,  2.,  6.,  0.,  0.,  0.,  0.,  0.,\n",
       "         0.,  0.,  0.,  0.,  0.,  0.,  0.,  0.,  0.,  0.,  0.,  0.,  0.,\n",
       "         0.,  0.,  0.,  0.,  0.,  0.,  0.,  0.,  0.,  0.,  0.,  0.,  0.,\n",
       "         0.,  0.,  0.,  0.,  0.,  0.,  0.,  0.,  0.,  0.,  0.,  0.,  0.,\n",
       "         0.,  0.,  0.,  0.,  0.,  0.,  0.,  0.,  0.,  0.,  0.,  0.,  0.,\n",
       "         0.,  0.,  0.,  0.,  0.,  0.,  0.,  0.,  0.,  0.,  0.,  0.,  0.,\n",
       "         0.,  0.,  0.,  0.,  0.,  0.,  0.,  0.,  0.,  0.,  0.,  0.,  0.,\n",
       "         0.,  0.,  0.,  0.,  0.]), 'H42 C38 N2 O6')"
      ]
     },
     "execution_count": 7,
     "metadata": {},
     "output_type": "execute_result"
    }
   ],
   "source": [
    "row = 100\n",
    "atoms[row,:,0], db['formula'][row]"
   ]
  },
  {
   "cell_type": "markdown",
   "metadata": {},
   "source": [
    "Now, the array called atoms will be transformed into a binary representation of the number of atoms of each element."
   ]
  },
  {
   "cell_type": "code",
   "execution_count": 8,
   "metadata": {},
   "outputs": [],
   "source": [
    "length = len(bin(int(atoms.max()))[2:])\n",
    "\n",
    "binatoms = np.zeros((db.shape[0], 96, length))\n",
    "for row in range(db.shape[0]):\n",
    "    sample = db['formula'][row]\n",
    "    for item in sample.split():\n",
    "        splitem = re.split('(\\d+)', item)\n",
    "        el, ats, = ''.join(splitem[:1]), ''.join(splitem[1:])\n",
    "        #print(el, ats)\n",
    "        binats = bin(int(np.round(float(ats),0)))[2:].zfill(length)\n",
    "        binats = [i for i in binats]\n",
    "        binats = np.asarray(binats)\n",
    "        \n",
    "        \n",
    "        binatoms[row, symtoz.get(el,None)-1] = binats"
   ]
  },
  {
   "cell_type": "markdown",
   "metadata": {},
   "source": [
    "Now we compare both representations (binary and decimal):"
   ]
  },
  {
   "cell_type": "code",
   "execution_count": 9,
   "metadata": {},
   "outputs": [
    {
     "data": {
      "text/plain": [
       "(array([[0., 0., 0., 0., 0., 1., 0., 0., 0.],\n",
       "        [0., 0., 0., 0., 0., 0., 0., 0., 0.],\n",
       "        [0., 0., 0., 0., 0., 0., 0., 0., 0.],\n",
       "        [0., 0., 0., 0., 0., 0., 0., 0., 0.],\n",
       "        [0., 0., 0., 0., 0., 0., 0., 0., 0.],\n",
       "        [0., 0., 0., 0., 0., 0., 0., 1., 0.],\n",
       "        [0., 0., 0., 0., 0., 0., 1., 0., 0.],\n",
       "        [0., 0., 0., 0., 0., 0., 0., 1., 0.],\n",
       "        [0., 0., 0., 0., 0., 0., 0., 0., 0.],\n",
       "        [0., 0., 0., 0., 0., 0., 0., 0., 0.],\n",
       "        [0., 0., 0., 0., 0., 0., 0., 0., 0.],\n",
       "        [0., 0., 0., 0., 0., 0., 0., 0., 0.],\n",
       "        [0., 0., 0., 0., 0., 0., 0., 0., 0.],\n",
       "        [0., 0., 0., 0., 0., 0., 0., 0., 0.],\n",
       "        [0., 0., 0., 0., 0., 0., 0., 0., 0.],\n",
       "        [0., 0., 0., 0., 0., 0., 0., 0., 0.],\n",
       "        [0., 0., 0., 0., 0., 0., 0., 0., 0.],\n",
       "        [0., 0., 0., 0., 0., 0., 0., 0., 0.],\n",
       "        [0., 0., 0., 0., 0., 0., 0., 0., 0.],\n",
       "        [0., 0., 0., 0., 0., 0., 0., 0., 0.],\n",
       "        [0., 0., 0., 0., 0., 0., 0., 0., 0.],\n",
       "        [0., 0., 0., 0., 0., 0., 0., 0., 0.],\n",
       "        [0., 0., 0., 0., 0., 0., 0., 0., 0.],\n",
       "        [0., 0., 0., 0., 0., 0., 0., 0., 0.],\n",
       "        [0., 0., 0., 0., 0., 0., 0., 0., 0.],\n",
       "        [0., 0., 0., 0., 0., 0., 0., 0., 0.],\n",
       "        [0., 0., 0., 0., 0., 0., 0., 0., 0.],\n",
       "        [0., 0., 0., 0., 0., 0., 0., 0., 0.],\n",
       "        [0., 0., 0., 0., 0., 0., 0., 0., 0.],\n",
       "        [0., 0., 0., 0., 0., 0., 0., 0., 0.],\n",
       "        [0., 0., 0., 0., 0., 0., 0., 0., 0.],\n",
       "        [0., 0., 0., 0., 0., 0., 0., 0., 0.],\n",
       "        [0., 0., 0., 0., 0., 0., 0., 0., 0.],\n",
       "        [0., 0., 0., 0., 0., 0., 0., 0., 0.],\n",
       "        [0., 0., 0., 0., 0., 0., 0., 0., 0.],\n",
       "        [0., 0., 0., 0., 0., 0., 0., 0., 0.],\n",
       "        [0., 0., 0., 0., 0., 0., 0., 0., 0.],\n",
       "        [0., 0., 0., 0., 0., 0., 0., 0., 0.],\n",
       "        [0., 0., 0., 0., 0., 0., 0., 0., 0.],\n",
       "        [0., 0., 0., 0., 0., 0., 0., 0., 0.],\n",
       "        [0., 0., 0., 0., 0., 0., 0., 0., 0.],\n",
       "        [0., 0., 0., 0., 0., 0., 0., 0., 0.],\n",
       "        [0., 0., 0., 0., 0., 0., 0., 0., 0.],\n",
       "        [0., 0., 0., 0., 0., 0., 0., 0., 0.],\n",
       "        [0., 0., 0., 0., 0., 0., 0., 0., 0.],\n",
       "        [0., 0., 0., 0., 0., 0., 0., 0., 0.],\n",
       "        [0., 0., 0., 0., 0., 0., 0., 0., 0.],\n",
       "        [0., 0., 0., 0., 0., 0., 0., 0., 0.],\n",
       "        [0., 0., 0., 0., 0., 0., 0., 0., 0.],\n",
       "        [0., 0., 0., 0., 0., 0., 0., 0., 0.],\n",
       "        [0., 0., 0., 0., 0., 0., 0., 0., 0.],\n",
       "        [0., 0., 0., 0., 0., 0., 0., 0., 0.],\n",
       "        [0., 0., 0., 0., 0., 0., 0., 0., 0.],\n",
       "        [0., 0., 0., 0., 0., 0., 0., 0., 0.],\n",
       "        [0., 0., 0., 0., 0., 0., 0., 0., 0.],\n",
       "        [0., 0., 0., 0., 0., 0., 0., 0., 0.],\n",
       "        [0., 0., 0., 0., 0., 0., 0., 0., 0.],\n",
       "        [0., 0., 0., 0., 0., 0., 0., 0., 0.],\n",
       "        [0., 0., 0., 0., 0., 0., 0., 0., 0.],\n",
       "        [0., 0., 0., 0., 0., 0., 0., 0., 0.],\n",
       "        [0., 0., 0., 0., 0., 0., 0., 0., 0.],\n",
       "        [0., 0., 0., 0., 0., 0., 0., 0., 0.],\n",
       "        [0., 0., 0., 0., 0., 0., 0., 0., 0.],\n",
       "        [0., 0., 0., 0., 0., 0., 0., 0., 0.],\n",
       "        [0., 0., 0., 0., 0., 0., 0., 0., 0.],\n",
       "        [0., 0., 0., 0., 0., 0., 0., 0., 0.],\n",
       "        [0., 0., 0., 0., 0., 0., 0., 0., 0.],\n",
       "        [0., 0., 0., 0., 0., 0., 0., 0., 0.],\n",
       "        [0., 0., 0., 0., 0., 0., 0., 0., 0.],\n",
       "        [0., 0., 0., 0., 0., 0., 0., 0., 0.],\n",
       "        [0., 0., 0., 0., 0., 0., 0., 0., 0.],\n",
       "        [0., 0., 0., 0., 0., 0., 0., 0., 0.],\n",
       "        [0., 0., 0., 0., 0., 0., 0., 0., 0.],\n",
       "        [0., 0., 0., 0., 0., 0., 0., 0., 0.],\n",
       "        [0., 0., 0., 0., 0., 0., 0., 0., 0.],\n",
       "        [0., 0., 0., 0., 0., 0., 0., 0., 0.],\n",
       "        [0., 0., 0., 0., 0., 0., 0., 0., 0.],\n",
       "        [0., 0., 0., 0., 0., 0., 0., 0., 0.],\n",
       "        [0., 0., 0., 0., 0., 0., 0., 0., 0.],\n",
       "        [0., 0., 0., 0., 0., 0., 0., 0., 0.],\n",
       "        [0., 0., 0., 0., 0., 0., 0., 0., 0.],\n",
       "        [0., 0., 0., 0., 0., 0., 0., 0., 0.],\n",
       "        [0., 0., 0., 0., 0., 0., 0., 0., 0.],\n",
       "        [0., 0., 0., 0., 0., 0., 0., 0., 0.],\n",
       "        [0., 0., 0., 0., 0., 0., 0., 0., 0.],\n",
       "        [0., 0., 0., 0., 0., 0., 0., 0., 0.],\n",
       "        [0., 0., 0., 0., 0., 0., 0., 0., 0.],\n",
       "        [0., 0., 0., 0., 0., 0., 0., 0., 0.],\n",
       "        [0., 0., 0., 0., 0., 0., 0., 0., 0.],\n",
       "        [0., 0., 0., 0., 0., 0., 0., 0., 0.],\n",
       "        [0., 0., 0., 0., 0., 0., 0., 0., 0.],\n",
       "        [0., 0., 0., 0., 0., 0., 0., 0., 0.],\n",
       "        [0., 0., 0., 0., 0., 0., 0., 0., 0.],\n",
       "        [0., 0., 0., 0., 0., 0., 0., 0., 0.],\n",
       "        [0., 0., 0., 0., 0., 0., 0., 0., 0.],\n",
       "        [0., 0., 0., 0., 0., 0., 0., 0., 0.]]),\n",
       " array([8., 0., 0., 0., 0., 2., 4., 2., 0., 0., 0., 0., 0., 0., 0., 0., 0.,\n",
       "        0., 0., 0., 0., 0., 0., 0., 0., 0., 0., 0., 0., 0., 0., 0., 0., 0.,\n",
       "        0., 0., 0., 0., 0., 0., 0., 0., 0., 0., 0., 0., 0., 0., 0., 0., 0.,\n",
       "        0., 0., 0., 0., 0., 0., 0., 0., 0., 0., 0., 0., 0., 0., 0., 0., 0.,\n",
       "        0., 0., 0., 0., 0., 0., 0., 0., 0., 0., 0., 0., 0., 0., 0., 0., 0.,\n",
       "        0., 0., 0., 0., 0., 0., 0., 0., 0., 0., 0.]))"
      ]
     },
     "execution_count": 9,
     "metadata": {},
     "output_type": "execute_result"
    }
   ],
   "source": [
    "row = 10\n",
    "binatoms[row,:,:],atoms[row,:,0]"
   ]
  },
  {
   "cell_type": "markdown",
   "metadata": {},
   "source": [
    "Saving the binary representation"
   ]
  },
  {
   "cell_type": "code",
   "execution_count": 10,
   "metadata": {
    "collapsed": true
   },
   "outputs": [],
   "source": [
    "np.save('binformula', binatoms)"
   ]
  }
 ],
 "metadata": {
  "kernelspec": {
   "display_name": "Python 3",
   "language": "python",
   "name": "python3"
  },
  "language_info": {
   "codemirror_mode": {
    "name": "ipython",
    "version": 3
   },
   "file_extension": ".py",
   "mimetype": "text/x-python",
   "name": "python",
   "nbconvert_exporter": "python",
   "pygments_lexer": "ipython3",
   "version": "3.6.1"
  }
 },
 "nbformat": 4,
 "nbformat_minor": 2
}
