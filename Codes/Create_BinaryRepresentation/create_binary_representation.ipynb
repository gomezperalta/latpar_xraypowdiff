{
 "cells": [
  {
   "cell_type": "code",
   "execution_count": 1,
   "metadata": {},
   "outputs": [],
   "source": [
    "import pandas as pd\n",
    "import numpy as np\n",
    "import re"
   ]
  },
  {
   "cell_type": "markdown",
   "metadata": {},
   "source": [
    "Loading the csv-files"
   ]
  },
  {
   "cell_type": "code",
   "execution_count": 2,
   "metadata": {},
   "outputs": [],
   "source": [
    "db = pd.read_csv('./om_info.csv')\n",
    "dat = pd.read_csv('./datosrahm.csv')\n",
    "\n",
    "symtoz = {k:v for k,v in zip(dat['Symbol'].values, dat['Z'].values)}\n",
    "symtoz['D'] = 1"
   ]
  },
  {
   "cell_type": "markdown",
   "metadata": {},
   "source": [
    "The db dataframe is the complete collection of compounds. The dat dataframe is a support file that relates element symbols with atomic numbers"
   ]
  },
  {
   "cell_type": "code",
   "execution_count": 3,
   "metadata": {
    "collapsed": true
   },
   "outputs": [],
   "source": [
    "diccio = {k:v for k,v in zip(df['cif'], df['formula'])}\n",
    "\n",
    "formulas = list()\n",
    "\n",
    "for row in range(db.shape[0]):\n",
    "    \n",
    "    cif = int(db['name'][row].split('_')[0])\n",
    "    formulas += [diccio.get(cif, None)]\n",
    "\n",
    "db['formula'] = formulas"
   ]
  },
  {
   "cell_type": "markdown",
   "metadata": {},
   "source": [
    "Now, the formula of each compound in db will be converted in a 96x1 matrix, which represents elements times number of atoms within the unit cell."
   ]
  },
  {
   "cell_type": "code",
   "execution_count": 3,
   "metadata": {},
   "outputs": [],
   "source": [
    "atoms = np.zeros((db.shape[0], 96, 1))\n",
    "for row in range(db.shape[0]):\n",
    "    sample = db['formula_unit_cell'][row]\n",
    "    for item in sample.split():\n",
    "        splitem = re.split('(\\d+)', item)\n",
    "        el, ats, = ''.join(splitem[:1]), ''.join(splitem[1:])\n",
    "        atoms[row, symtoz.get(el,None)-1] = float(ats)"
   ]
  },
  {
   "cell_type": "markdown",
   "metadata": {},
   "source": [
    "Now, we check that there are not fractional atoms (next result must be equal to zero)"
   ]
  },
  {
   "cell_type": "code",
   "execution_count": 4,
   "metadata": {},
   "outputs": [
    {
     "data": {
      "text/html": [
       "<div>\n",
       "<style scoped>\n",
       "    .dataframe tbody tr th:only-of-type {\n",
       "        vertical-align: middle;\n",
       "    }\n",
       "\n",
       "    .dataframe tbody tr th {\n",
       "        vertical-align: top;\n",
       "    }\n",
       "\n",
       "    .dataframe thead th {\n",
       "        text-align: right;\n",
       "    }\n",
       "</style>\n",
       "<table border=\"1\" class=\"dataframe\">\n",
       "  <thead>\n",
       "    <tr style=\"text-align: right;\">\n",
       "      <th></th>\n",
       "      <th>cif</th>\n",
       "      <th>a</th>\n",
       "      <th>b</th>\n",
       "      <th>c</th>\n",
       "      <th>alpha</th>\n",
       "      <th>beta</th>\n",
       "      <th>gamma</th>\n",
       "      <th>formula_unit_cell</th>\n",
       "      <th>formula_om</th>\n",
       "    </tr>\n",
       "  </thead>\n",
       "  <tbody>\n",
       "    <tr>\n",
       "      <th>5881</th>\n",
       "      <td>2010797</td>\n",
       "      <td>7.6940</td>\n",
       "      <td>8.0390</td>\n",
       "      <td>14.1300</td>\n",
       "      <td>90.0</td>\n",
       "      <td>90.0000</td>\n",
       "      <td>90.0</td>\n",
       "      <td>H24 C19.99992 I4 N3.99984 Cl8</td>\n",
       "      <td>C5 H6 Cl2 I N</td>\n",
       "    </tr>\n",
       "    <tr>\n",
       "      <th>7166</th>\n",
       "      <td>2017128</td>\n",
       "      <td>17.5480</td>\n",
       "      <td>17.5480</td>\n",
       "      <td>7.8980</td>\n",
       "      <td>90.0</td>\n",
       "      <td>90.0000</td>\n",
       "      <td>120.0</td>\n",
       "      <td>Cu12 H89.99991 C45 N30 Cl18 O3</td>\n",
       "      <td>C15 H30 Cl6 Cu4 N10 O</td>\n",
       "    </tr>\n",
       "    <tr>\n",
       "      <th>8215</th>\n",
       "      <td>2103906</td>\n",
       "      <td>7.2982</td>\n",
       "      <td>9.3593</td>\n",
       "      <td>29.2570</td>\n",
       "      <td>90.0</td>\n",
       "      <td>90.0000</td>\n",
       "      <td>90.0</td>\n",
       "      <td>H128 C68 N16 O16.0064</td>\n",
       "      <td>C17 H32 N4 O4</td>\n",
       "    </tr>\n",
       "    <tr>\n",
       "      <th>13436</th>\n",
       "      <td>4101626</td>\n",
       "      <td>11.6012</td>\n",
       "      <td>11.6012</td>\n",
       "      <td>11.6012</td>\n",
       "      <td>90.0</td>\n",
       "      <td>90.0000</td>\n",
       "      <td>90.0</td>\n",
       "      <td>Zn4 Cu4 H47.9988 C32 N20</td>\n",
       "      <td>C8 H12 Cu N5 Zn</td>\n",
       "    </tr>\n",
       "    <tr>\n",
       "      <th>14306</th>\n",
       "      <td>4323260</td>\n",
       "      <td>14.4730</td>\n",
       "      <td>18.3460</td>\n",
       "      <td>19.5500</td>\n",
       "      <td>90.0</td>\n",
       "      <td>90.0000</td>\n",
       "      <td>90.0</td>\n",
       "      <td>Si16 Mo8.0008 P16 H288 C128</td>\n",
       "      <td>C32 H72 Mo2 P4 Si4</td>\n",
       "    </tr>\n",
       "    <tr>\n",
       "      <th>...</th>\n",
       "      <td>...</td>\n",
       "      <td>...</td>\n",
       "      <td>...</td>\n",
       "      <td>...</td>\n",
       "      <td>...</td>\n",
       "      <td>...</td>\n",
       "      <td>...</td>\n",
       "      <td>...</td>\n",
       "      <td>...</td>\n",
       "    </tr>\n",
       "    <tr>\n",
       "      <th>95523</th>\n",
       "      <td>7118853</td>\n",
       "      <td>6.8611</td>\n",
       "      <td>18.3584</td>\n",
       "      <td>9.5657</td>\n",
       "      <td>90.0</td>\n",
       "      <td>90.0894</td>\n",
       "      <td>90.0</td>\n",
       "      <td>H40 C60.18 N8.024 O12.036</td>\n",
       "      <td>C15 H10 N2 O3</td>\n",
       "    </tr>\n",
       "    <tr>\n",
       "      <th>95627</th>\n",
       "      <td>7153154</td>\n",
       "      <td>12.6980</td>\n",
       "      <td>16.1029</td>\n",
       "      <td>19.8555</td>\n",
       "      <td>90.0</td>\n",
       "      <td>98.2570</td>\n",
       "      <td>90.0</td>\n",
       "      <td>Fe4 H204 C148 N8 Cl15.88 O8</td>\n",
       "      <td>C37 H51 Cl4 Fe N2 O2</td>\n",
       "    </tr>\n",
       "    <tr>\n",
       "      <th>95782</th>\n",
       "      <td>7204222</td>\n",
       "      <td>14.1610</td>\n",
       "      <td>7.5210</td>\n",
       "      <td>22.9670</td>\n",
       "      <td>90.0</td>\n",
       "      <td>105.7030</td>\n",
       "      <td>90.0</td>\n",
       "      <td>H120 C91.984 N16 O28.0</td>\n",
       "      <td>C23 H30 N4 O7</td>\n",
       "    </tr>\n",
       "    <tr>\n",
       "      <th>95812</th>\n",
       "      <td>7205487</td>\n",
       "      <td>11.3843</td>\n",
       "      <td>14.2937</td>\n",
       "      <td>15.1250</td>\n",
       "      <td>90.0</td>\n",
       "      <td>111.6560</td>\n",
       "      <td>90.0</td>\n",
       "      <td>H96.028 C128.028 O8</td>\n",
       "      <td>C32 H24 O2</td>\n",
       "    </tr>\n",
       "    <tr>\n",
       "      <th>96225</th>\n",
       "      <td>8101567</td>\n",
       "      <td>23.7325</td>\n",
       "      <td>7.9631</td>\n",
       "      <td>12.3151</td>\n",
       "      <td>90.0</td>\n",
       "      <td>90.0000</td>\n",
       "      <td>90.0</td>\n",
       "      <td>P4 H116.028 C88.012 O20.006</td>\n",
       "      <td>C44 H58 O10 P2</td>\n",
       "    </tr>\n",
       "  </tbody>\n",
       "</table>\n",
       "<p>596 rows × 9 columns</p>\n",
       "</div>"
      ],
      "text/plain": [
       "           cif        a        b        c  alpha      beta  gamma  \\\n",
       "5881   2010797   7.6940   8.0390  14.1300   90.0   90.0000   90.0   \n",
       "7166   2017128  17.5480  17.5480   7.8980   90.0   90.0000  120.0   \n",
       "8215   2103906   7.2982   9.3593  29.2570   90.0   90.0000   90.0   \n",
       "13436  4101626  11.6012  11.6012  11.6012   90.0   90.0000   90.0   \n",
       "14306  4323260  14.4730  18.3460  19.5500   90.0   90.0000   90.0   \n",
       "...        ...      ...      ...      ...    ...       ...    ...   \n",
       "95523  7118853   6.8611  18.3584   9.5657   90.0   90.0894   90.0   \n",
       "95627  7153154  12.6980  16.1029  19.8555   90.0   98.2570   90.0   \n",
       "95782  7204222  14.1610   7.5210  22.9670   90.0  105.7030   90.0   \n",
       "95812  7205487  11.3843  14.2937  15.1250   90.0  111.6560   90.0   \n",
       "96225  8101567  23.7325   7.9631  12.3151   90.0   90.0000   90.0   \n",
       "\n",
       "                    formula_unit_cell             formula_om  \n",
       "5881    H24 C19.99992 I4 N3.99984 Cl8          C5 H6 Cl2 I N  \n",
       "7166   Cu12 H89.99991 C45 N30 Cl18 O3  C15 H30 Cl6 Cu4 N10 O  \n",
       "8215            H128 C68 N16 O16.0064          C17 H32 N4 O4  \n",
       "13436        Zn4 Cu4 H47.9988 C32 N20        C8 H12 Cu N5 Zn  \n",
       "14306     Si16 Mo8.0008 P16 H288 C128     C32 H72 Mo2 P4 Si4  \n",
       "...                               ...                    ...  \n",
       "95523       H40 C60.18 N8.024 O12.036          C15 H10 N2 O3  \n",
       "95627     Fe4 H204 C148 N8 Cl15.88 O8   C37 H51 Cl4 Fe N2 O2  \n",
       "95782          H120 C91.984 N16 O28.0          C23 H30 N4 O7  \n",
       "95812             H96.028 C128.028 O8             C32 H24 O2  \n",
       "96225     P4 H116.028 C88.012 O20.006         C44 H58 O10 P2  \n",
       "\n",
       "[596 rows x 9 columns]"
      ]
     },
     "execution_count": 4,
     "metadata": {},
     "output_type": "execute_result"
    }
   ],
   "source": [
    "db.iloc[(atoms.sum(axis=(1,2))%1 != 0),:]"
   ]
  },
  {
   "cell_type": "markdown",
   "metadata": {},
   "source": [
    "The decimals are really near to integers. "
   ]
  },
  {
   "cell_type": "markdown",
   "metadata": {},
   "source": [
    "We check the highest number of atoms for an element in a compound. This is important since this will fix the length of the binary input vector"
   ]
  },
  {
   "cell_type": "code",
   "execution_count": 5,
   "metadata": {},
   "outputs": [
    {
     "data": {
      "text/plain": [
       "360.0"
      ]
     },
     "execution_count": 5,
     "metadata": {},
     "output_type": "execute_result"
    }
   ],
   "source": [
    "atoms.max()"
   ]
  },
  {
   "cell_type": "markdown",
   "metadata": {},
   "source": [
    "In the next cell we compare the matrix for each compound with the formula."
   ]
  },
  {
   "cell_type": "code",
   "execution_count": 6,
   "metadata": {},
   "outputs": [
    {
     "data": {
      "text/plain": [
       "(array([84.,  0.,  0.,  0.,  0., 80., 20.,  0.,  0.,  0.,  0.,  0.,  0.,\n",
       "         0.,  0.,  8., 16.,  0.,  0.,  0.,  0.,  0.,  0.,  0.,  0.,  0.,\n",
       "         0.,  0.,  8.,  0.,  0.,  0.,  0.,  0.,  0.,  0.,  0.,  0.,  0.,\n",
       "         0.,  0.,  0.,  0.,  0.,  0.,  0.,  0.,  0.,  0.,  0.,  0.,  0.,\n",
       "         0.,  0.,  0.,  0.,  0.,  0.,  0.,  0.,  0.,  0.,  0.,  0.,  0.,\n",
       "         0.,  0.,  0.,  0.,  0.,  0.,  0.,  0.,  0.,  0.,  0.,  0.,  0.,\n",
       "         0.,  0.,  0.,  0.,  0.,  0.,  0.,  0.,  0.,  0.,  0.,  0.,  0.,\n",
       "         0.,  0.,  0.,  0.,  0.]),\n",
       " 'Cu8 H84 C80 S8 N20 Cl16')"
      ]
     },
     "execution_count": 6,
     "metadata": {},
     "output_type": "execute_result"
    }
   ],
   "source": [
    "row = 100\n",
    "atoms[row,:,0], db['formula_unit_cell'][row]"
   ]
  },
  {
   "cell_type": "markdown",
   "metadata": {},
   "source": [
    "Now, the array called atoms will be transformed into a binary representation of the number of atoms of each element."
   ]
  },
  {
   "cell_type": "code",
   "execution_count": 7,
   "metadata": {},
   "outputs": [],
   "source": [
    "length = len(bin(int(atoms.max()))[2:])\n",
    "\n",
    "binatoms = np.zeros((db.shape[0], 96, length))\n",
    "for row in range(db.shape[0]):\n",
    "    sample = db['formula_unit_cell'][row]\n",
    "    for item in sample.split():\n",
    "        splitem = re.split('(\\d+)', item)\n",
    "        el, ats, = ''.join(splitem[:1]), ''.join(splitem[1:])\n",
    "\n",
    "        binats = bin(int(np.round(float(ats),0)))[2:].zfill(length)\n",
    "        binats = [i for i in binats]\n",
    "        binats = np.asarray(binats)\n",
    "        \n",
    "        \n",
    "        binatoms[row, symtoz.get(el,None)-1] = binats"
   ]
  },
  {
   "cell_type": "markdown",
   "metadata": {},
   "source": [
    "Now we compare both representations (binary and decimal):"
   ]
  },
  {
   "cell_type": "code",
   "execution_count": 8,
   "metadata": {},
   "outputs": [
    {
     "data": {
      "text/plain": [
       "(array([[0., 0., 0., 1., 1., 0., 0., 0., 0.],\n",
       "        [0., 0., 0., 0., 0., 0., 0., 0., 0.],\n",
       "        [0., 0., 0., 0., 0., 0., 0., 0., 0.],\n",
       "        [0., 0., 0., 0., 0., 0., 0., 0., 0.],\n",
       "        [0., 0., 0., 0., 0., 0., 0., 0., 0.],\n",
       "        [0., 0., 0., 1., 0., 0., 1., 0., 0.],\n",
       "        [0., 0., 0., 0., 1., 0., 1., 0., 0.],\n",
       "        [0., 0., 0., 0., 1., 1., 0., 0., 0.],\n",
       "        [0., 0., 0., 0., 0., 0., 0., 0., 0.],\n",
       "        [0., 0., 0., 0., 0., 0., 0., 0., 0.],\n",
       "        [0., 0., 0., 0., 0., 0., 0., 0., 0.],\n",
       "        [0., 0., 0., 0., 0., 0., 0., 0., 0.],\n",
       "        [0., 0., 0., 0., 0., 0., 0., 0., 0.],\n",
       "        [0., 0., 0., 0., 0., 0., 0., 0., 0.],\n",
       "        [0., 0., 0., 0., 0., 0., 0., 0., 0.],\n",
       "        [0., 0., 0., 0., 0., 0., 0., 0., 0.],\n",
       "        [0., 0., 0., 0., 0., 0., 0., 0., 0.],\n",
       "        [0., 0., 0., 0., 0., 0., 0., 0., 0.],\n",
       "        [0., 0., 0., 0., 0., 0., 0., 0., 0.],\n",
       "        [0., 0., 0., 0., 0., 0., 0., 0., 0.],\n",
       "        [0., 0., 0., 0., 0., 0., 0., 0., 0.],\n",
       "        [0., 0., 0., 0., 0., 0., 0., 0., 0.],\n",
       "        [0., 0., 0., 0., 0., 0., 0., 0., 0.],\n",
       "        [0., 0., 0., 0., 0., 0., 0., 0., 0.],\n",
       "        [0., 0., 0., 0., 0., 0., 0., 0., 0.],\n",
       "        [0., 0., 0., 0., 0., 0., 0., 0., 0.],\n",
       "        [0., 0., 0., 0., 0., 0., 0., 1., 0.],\n",
       "        [0., 0., 0., 0., 0., 0., 0., 0., 0.],\n",
       "        [0., 0., 0., 0., 0., 0., 0., 0., 0.],\n",
       "        [0., 0., 0., 0., 0., 0., 0., 0., 0.],\n",
       "        [0., 0., 0., 0., 0., 0., 0., 0., 0.],\n",
       "        [0., 0., 0., 0., 0., 0., 0., 0., 0.],\n",
       "        [0., 0., 0., 0., 0., 0., 0., 0., 0.],\n",
       "        [0., 0., 0., 0., 0., 0., 0., 0., 0.],\n",
       "        [0., 0., 0., 0., 0., 0., 0., 0., 0.],\n",
       "        [0., 0., 0., 0., 0., 0., 0., 0., 0.],\n",
       "        [0., 0., 0., 0., 0., 0., 0., 0., 0.],\n",
       "        [0., 0., 0., 0., 0., 0., 0., 0., 0.],\n",
       "        [0., 0., 0., 0., 0., 0., 0., 0., 0.],\n",
       "        [0., 0., 0., 0., 0., 0., 0., 0., 0.],\n",
       "        [0., 0., 0., 0., 0., 0., 0., 0., 0.],\n",
       "        [0., 0., 0., 0., 0., 0., 0., 0., 0.],\n",
       "        [0., 0., 0., 0., 0., 0., 0., 0., 0.],\n",
       "        [0., 0., 0., 0., 0., 0., 0., 0., 0.],\n",
       "        [0., 0., 0., 0., 0., 0., 0., 0., 0.],\n",
       "        [0., 0., 0., 0., 0., 0., 0., 0., 0.],\n",
       "        [0., 0., 0., 0., 0., 0., 0., 0., 0.],\n",
       "        [0., 0., 0., 0., 0., 0., 0., 0., 0.],\n",
       "        [0., 0., 0., 0., 0., 0., 0., 0., 0.],\n",
       "        [0., 0., 0., 0., 0., 0., 0., 0., 0.],\n",
       "        [0., 0., 0., 0., 0., 0., 0., 0., 0.],\n",
       "        [0., 0., 0., 0., 0., 0., 0., 0., 0.],\n",
       "        [0., 0., 0., 0., 0., 0., 0., 0., 0.],\n",
       "        [0., 0., 0., 0., 0., 0., 0., 0., 0.],\n",
       "        [0., 0., 0., 0., 0., 0., 0., 0., 0.],\n",
       "        [0., 0., 0., 0., 0., 0., 0., 0., 0.],\n",
       "        [0., 0., 0., 0., 0., 0., 0., 0., 0.],\n",
       "        [0., 0., 0., 0., 0., 0., 0., 0., 0.],\n",
       "        [0., 0., 0., 0., 0., 0., 0., 0., 0.],\n",
       "        [0., 0., 0., 0., 0., 0., 0., 0., 0.],\n",
       "        [0., 0., 0., 0., 0., 0., 0., 0., 0.],\n",
       "        [0., 0., 0., 0., 0., 0., 0., 0., 0.],\n",
       "        [0., 0., 0., 0., 0., 0., 0., 0., 0.],\n",
       "        [0., 0., 0., 0., 0., 0., 0., 0., 0.],\n",
       "        [0., 0., 0., 0., 0., 0., 0., 0., 0.],\n",
       "        [0., 0., 0., 0., 0., 0., 0., 0., 0.],\n",
       "        [0., 0., 0., 0., 0., 0., 0., 0., 0.],\n",
       "        [0., 0., 0., 0., 0., 0., 0., 0., 0.],\n",
       "        [0., 0., 0., 0., 0., 0., 0., 0., 0.],\n",
       "        [0., 0., 0., 0., 0., 0., 0., 0., 0.],\n",
       "        [0., 0., 0., 0., 0., 0., 0., 0., 0.],\n",
       "        [0., 0., 0., 0., 0., 0., 0., 0., 0.],\n",
       "        [0., 0., 0., 0., 0., 0., 0., 0., 0.],\n",
       "        [0., 0., 0., 0., 0., 0., 0., 0., 0.],\n",
       "        [0., 0., 0., 0., 0., 0., 0., 0., 0.],\n",
       "        [0., 0., 0., 0., 0., 0., 0., 0., 0.],\n",
       "        [0., 0., 0., 0., 0., 0., 0., 0., 0.],\n",
       "        [0., 0., 0., 0., 0., 0., 0., 0., 0.],\n",
       "        [0., 0., 0., 0., 0., 0., 0., 0., 0.],\n",
       "        [0., 0., 0., 0., 0., 0., 0., 0., 0.],\n",
       "        [0., 0., 0., 0., 0., 0., 0., 0., 0.],\n",
       "        [0., 0., 0., 0., 0., 0., 0., 0., 0.],\n",
       "        [0., 0., 0., 0., 0., 0., 0., 0., 0.],\n",
       "        [0., 0., 0., 0., 0., 0., 0., 0., 0.],\n",
       "        [0., 0., 0., 0., 0., 0., 0., 0., 0.],\n",
       "        [0., 0., 0., 0., 0., 0., 0., 0., 0.],\n",
       "        [0., 0., 0., 0., 0., 0., 0., 0., 0.],\n",
       "        [0., 0., 0., 0., 0., 0., 0., 0., 0.],\n",
       "        [0., 0., 0., 0., 0., 0., 0., 0., 0.],\n",
       "        [0., 0., 0., 0., 0., 0., 0., 0., 0.],\n",
       "        [0., 0., 0., 0., 0., 0., 0., 0., 0.],\n",
       "        [0., 0., 0., 0., 0., 0., 0., 0., 0.],\n",
       "        [0., 0., 0., 0., 0., 0., 0., 0., 0.],\n",
       "        [0., 0., 0., 0., 0., 0., 0., 0., 0.],\n",
       "        [0., 0., 0., 0., 0., 0., 0., 0., 0.],\n",
       "        [0., 0., 0., 0., 0., 0., 0., 0., 0.]]),\n",
       " array([48.,  0.,  0.,  0.,  0., 36., 20., 24.,  0.,  0.,  0.,  0.,  0.,\n",
       "         0.,  0.,  0.,  0.,  0.,  0.,  0.,  0.,  0.,  0.,  0.,  0.,  0.,\n",
       "         2.,  0.,  0.,  0.,  0.,  0.,  0.,  0.,  0.,  0.,  0.,  0.,  0.,\n",
       "         0.,  0.,  0.,  0.,  0.,  0.,  0.,  0.,  0.,  0.,  0.,  0.,  0.,\n",
       "         0.,  0.,  0.,  0.,  0.,  0.,  0.,  0.,  0.,  0.,  0.,  0.,  0.,\n",
       "         0.,  0.,  0.,  0.,  0.,  0.,  0.,  0.,  0.,  0.,  0.,  0.,  0.,\n",
       "         0.,  0.,  0.,  0.,  0.,  0.,  0.,  0.,  0.,  0.,  0.,  0.,  0.,\n",
       "         0.,  0.,  0.,  0.,  0.]))"
      ]
     },
     "execution_count": 8,
     "metadata": {},
     "output_type": "execute_result"
    }
   ],
   "source": [
    "row = 10\n",
    "binatoms[row,:,:],atoms[row,:,0]"
   ]
  },
  {
   "cell_type": "markdown",
   "metadata": {},
   "source": [
    "Saving the binary representation"
   ]
  },
  {
   "cell_type": "code",
   "execution_count": 9,
   "metadata": {},
   "outputs": [],
   "source": [
    "np.save('binformula', binatoms)"
   ]
  }
 ],
 "metadata": {
  "kernelspec": {
   "display_name": "Python 3 (ipykernel)",
   "language": "python",
   "name": "python3"
  },
  "language_info": {
   "codemirror_mode": {
    "name": "ipython",
    "version": 3
   },
   "file_extension": ".py",
   "mimetype": "text/x-python",
   "name": "python",
   "nbconvert_exporter": "python",
   "pygments_lexer": "ipython3",
   "version": "3.10.9"
  }
 },
 "nbformat": 4,
 "nbformat_minor": 2
}
